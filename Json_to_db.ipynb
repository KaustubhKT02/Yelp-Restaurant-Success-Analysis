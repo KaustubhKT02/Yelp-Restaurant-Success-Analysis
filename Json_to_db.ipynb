{
 "cells": [
  {
   "cell_type": "code",
   "execution_count": 1,
   "id": "2f75a09d-8fb2-41d8-a6a1-380b25519f87",
   "metadata": {},
   "outputs": [],
   "source": [
    "import pandas as pd\n",
    "import json\n",
    "from sqlalchemy import create_engine"
   ]
  },
  {
   "cell_type": "code",
   "execution_count": 3,
   "id": "ad358539-4447-4022-9e24-a72c378839e0",
   "metadata": {},
   "outputs": [],
   "source": [
    "def load_json_to_df(filename):\n",
    "    try:\n",
    "        with open(filename, 'r', encoding='utf-8') as f:  # Specify UTF-8 encoding\n",
    "            data = [json.loads(line) for line in f]\n",
    "        return pd.DataFrame(data)\n",
    "    except FileNotFoundError:\n",
    "        print(f\"File {filename} not found.\")\n",
    "        return pd.DataFrame()  # Return an empty DataFrame if the file is missing\n",
    "    except json.JSONDecodeError:\n",
    "        print(f\"Error decoding JSON in file {filename}\")\n",
    "        return pd.DataFrame()\n",
    "\n",
    "# File paths for each JSON dataset\n",
    "files = {\n",
    "    \"business\": \"yelp_academic_dataset_business.json\",\n",
    "    \"checkin\": \"yelp_academic_dataset_checkin.json\",\n",
    "    \"review\": \"yelp_academic_dataset_review.json\",\n",
    "    \"tip\": \"yelp_academic_dataset_tip.json\",\n",
    "    \"user\": \"yelp_academic_dataset_user.json\"\n",
    "}\n",
    "\n",
    "# Load each file into a DataFrame\n",
    "dataframes = {name: load_json_to_df(filepath) for name, filepath in files.items()}\n",
    "\n",
    "# Access individual DataFrames\n",
    "business_df = dataframes[\"business\"]\n",
    "checkin_df = dataframes[\"checkin\"]\n",
    "review_df = dataframes[\"review\"]\n",
    "tip_df = dataframes[\"tip\"]\n",
    "user_df = dataframes[\"user\"]"
   ]
  },
  {
   "cell_type": "code",
   "execution_count": 4,
   "id": "5e6d79fd-3ffd-4cde-b81c-0f363a6c40f1",
   "metadata": {},
   "outputs": [
    {
     "name": "stdout",
     "output_type": "stream",
     "text": [
      "(150346, 14)\n",
      "(131930, 2)\n",
      "(6990280, 9)\n",
      "(908915, 5)\n",
      "(1987897, 22)\n"
     ]
    }
   ],
   "source": [
    "print(business_df.shape)\n",
    "print(checkin_df.shape)\n",
    "print(review_df.shape)\n",
    "print(tip_df.shape)\n",
    "print(user_df.shape)"
   ]
  },
  {
   "cell_type": "code",
   "execution_count": 5,
   "id": "d0a4dad3-2405-48a7-8ee3-fe8397990ceb",
   "metadata": {},
   "outputs": [],
   "source": [
    "business_df.drop(['attributes', 'hours'], axis = 1 , inplace = True) "
   ]
  },
  {
   "cell_type": "code",
   "execution_count": 9,
   "id": "2dddde82-7257-477b-b2d9-9b16a7321b23",
   "metadata": {},
   "outputs": [],
   "source": [
    "# Create the SQLite engine\n",
    "engine = create_engine('sqlite:///yelp.db')  # Correct the URL here\n",
    "\n",
    "# Define the function to load DataFrame into a SQL table\n",
    "def load_dataframe(df, table_name, engine):\n",
    "    df.to_sql(table_name, con=engine, if_exists='replace', index=False)  # Correct the typo here\n",
    "\n",
    "# Load each DataFrame into a separate table\n",
    "load_dataframe(business_df, 'business', engine)\n",
    "load_dataframe(checkin_df, 'checkin', engine)\n",
    "load_dataframe(review_df, 'review', engine)\n",
    "load_dataframe(tip_df, 'tip', engine)\n",
    "load_dataframe(user_df, 'user', engine)"
   ]
  },
  {
   "cell_type": "code",
   "execution_count": null,
   "id": "55fac92c-13cd-42b1-b1cb-80d82268684f",
   "metadata": {},
   "outputs": [],
   "source": []
  }
 ],
 "metadata": {
  "kernelspec": {
   "display_name": "Python 3 (ipykernel)",
   "language": "python",
   "name": "python3"
  },
  "language_info": {
   "codemirror_mode": {
    "name": "ipython",
    "version": 3
   },
   "file_extension": ".py",
   "mimetype": "text/x-python",
   "name": "python",
   "nbconvert_exporter": "python",
   "pygments_lexer": "ipython3",
   "version": "3.10.0"
  }
 },
 "nbformat": 4,
 "nbformat_minor": 5
}
